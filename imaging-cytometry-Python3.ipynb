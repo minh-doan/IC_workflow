{
 "cells": [
  {
   "cell_type": "code",
   "execution_count": null,
   "metadata": {
    "collapsed": false,
    "deletable": true,
    "editable": true
   },
   "outputs": [],
   "source": [
    "import ifc_utils\n",
    "import keras\n",
    "import numpy\n",
    "import matplotlib.pyplot\n",
    "import os.path\n",
    "import pandas\n",
    "\n",
    "import keras.applications\n",
    "import keras.preprocessing.image\n",
    "import tensorflow"
   ]
  },
  {
   "cell_type": "code",
   "execution_count": null,
   "metadata": {
    "collapsed": true,
    "deletable": true,
    "editable": true
   },
   "outputs": [],
   "source": [
    "configuration = tensorflow.ConfigProto()\n",
    "\n",
    "configuration.gpu_options.allow_growth = True\n",
    "\n",
    "session = tensorflow.Session(config=configuration)\n",
    "\n",
    "keras.backend.set_session(session)"
   ]
  },
  {
   "cell_type": "markdown",
   "metadata": {},
   "source": [
    "# User's settings:"
   ]
  },
  {
   "cell_type": "code",
   "execution_count": null,
   "metadata": {
    "collapsed": false,
    "deletable": true,
    "editable": true
   },
   "outputs": [],
   "source": [
    "directory = \"/home/minh-doan/Cell_cycle/temp_processed\"\n",
    "\n",
    "data = {\n",
    "    \"G1\": \"/home/minh-doan/Cell_cycle/Step2_input_single_tifs/G1/\",\n",
    "    \"S_phase\": \"/home/minh-doan/Cell_cycle/Step2_input_single_tifs/S_phase/\",\n",
    "    \"G2\": \"/home/minh-doan/Cell_cycle/Step2_input_single_tifs/G2/\",\n",
    "    \"Prophase\": \"/home/minh-doan/Cell_cycle/Step2_input_single_tifs/Prophase/\",\n",
    "    \"Anaphase\": \"/home/minh-doan/Cell_cycle/Step2_input_single_tifs/Anaphase/\",\n",
    "    \"Metaphase\": \"/home/minh-doan/Cell_cycle/Step2_input_single_tifs/Metaphase/\",\n",
    "    \"Telophase\": \"/home/minh-doan/Cell_cycle/Step2_input_single_tifs/Telophase/\"\n",
    "}\n",
    "\n",
    "channels = [3, 6]\n",
    "\n",
    "image_size = 40\n",
    "\n",
    "split = {\n",
    "    \"Training\" : 0.8,\n",
    "    \"Validation\" : 0.15,\n",
    "    \"Testing\" : 0.05\n",
    "}"
   ]
  },
  {
   "cell_type": "code",
   "execution_count": null,
   "metadata": {
    "collapsed": true,
    "deletable": true,
    "editable": true
   },
   "outputs": [],
   "source": [
    "ifc_utils.parse(directory, data, channels, image_size)"
   ]
  },
  {
   "cell_type": "code",
   "execution_count": null,
   "metadata": {
    "collapsed": false,
    "deletable": true,
    "editable": true
   },
   "outputs": [],
   "source": [
    "ifc_utils.split(directory, data.keys(), split, image_size)"
   ]
  },
  {
   "cell_type": "code",
   "execution_count": null,
   "metadata": {
    "collapsed": true,
    "deletable": true,
    "editable": true
   },
   "outputs": [],
   "source": [
    "class_weights = ifc_utils.class_weights(\"/home/minh-doan/Cell_cycle/temp_processed/Training/\", data)"
   ]
  },
  {
   "cell_type": "code",
   "execution_count": null,
   "metadata": {
    "collapsed": true,
    "deletable": true,
    "editable": true
   },
   "outputs": [],
   "source": [
    "classes = len(data.keys())"
   ]
  },
  {
   "cell_type": "markdown",
   "metadata": {
    "deletable": true,
    "editable": true
   },
   "source": [
    "# Utilize prebuilt VGG19 network"
   ]
  },
  {
   "cell_type": "code",
   "execution_count": null,
   "metadata": {
    "collapsed": true,
    "deletable": true,
    "editable": true
   },
   "outputs": [],
   "source": [
    "# Change here the number of channesl: for VGG19 expecting (224,224,3) with 3 channels, for homemade model it's (image_size, image_size, 1)\n",
    "shape = (224, 224, 3)"
   ]
  },
  {
   "cell_type": "code",
   "execution_count": null,
   "metadata": {
    "collapsed": false,
    "deletable": true,
    "editable": true
   },
   "outputs": [],
   "source": [
    "VGG19 = keras.applications.VGG19(include_top = False, classes = classes)"
   ]
  },
  {
   "cell_type": "code",
   "execution_count": null,
   "metadata": {
    "collapsed": true,
    "deletable": true,
    "editable": true
   },
   "outputs": [],
   "source": [
    "for layer in VGG19.layers:\n",
    "    layer.trainable = False\n",
    "    \n",
    "x = VGG19.output\n",
    "x = keras.layers.GlobalAveragePooling2D()(x)"
   ]
  },
  {
   "cell_type": "code",
   "execution_count": null,
   "metadata": {
    "collapsed": false,
    "deletable": true,
    "editable": true
   },
   "outputs": [],
   "source": [
    "# For classification:\n",
    "# x = keras.layers.Dense(4096, activation='relu')(x)\n",
    "# x = keras.layers.BatchNormalization()(x)\n",
    "\n",
    "# For Tensorboard embedding:\n",
    "intermediate_layer = keras.layers.Dense(4096, activation='relu')(x)\n",
    "x = keras.layers.BatchNormalization()(intermediate_layer)\n",
    "x = keras.layers.Dropout(rate=0.5)(x)\n",
    "\n",
    "predictions = keras.layers.Dense(classes, activation='softmax')(x)\n",
    "\n",
    "# this is the model we will train\n",
    "model = keras.models.Model(input=VGG19.input, output=predictions)"
   ]
  },
  {
   "cell_type": "code",
   "execution_count": null,
   "metadata": {
    "collapsed": false,
    "deletable": true,
    "editable": true
   },
   "outputs": [],
   "source": [
    "model.summary()"
   ]
  },
  {
   "cell_type": "code",
   "execution_count": null,
   "metadata": {
    "collapsed": true,
    "deletable": true,
    "editable": true
   },
   "outputs": [],
   "source": [
    "optimizer = keras.optimizers.Adam(lr = 0.0001)\n",
    "\n",
    "loss = keras.losses.categorical_crossentropy\n",
    "\n",
    "metrics = [\n",
    "    keras.metrics.categorical_accuracy\n",
    "]\n",
    "\n",
    "model.compile(optimizer, loss, metrics)"
   ]
  },
  {
   "cell_type": "code",
   "execution_count": null,
   "metadata": {
    "collapsed": false,
    "deletable": true,
    "editable": true
   },
   "outputs": [],
   "source": [
    "training_generator = keras.preprocessing.image.ImageDataGenerator(horizontal_flip = True, vertical_flip = True)\n",
    "\n",
    "training_generator = training_generator.flow_from_directory(\n",
    "    batch_size=32,\n",
    "    color_mode=\"rgb\",\n",
    "    directory=\"/home/minh-doan/Cell_cycle/temp_processed/Training/\",\n",
    "    target_size=(224, 224)\n",
    ")"
   ]
  },
  {
   "cell_type": "code",
   "execution_count": null,
   "metadata": {
    "collapsed": false,
    "deletable": true,
    "editable": true
   },
   "outputs": [],
   "source": [
    "validation_generator = keras.preprocessing.image.ImageDataGenerator(horizontal_flip = True, vertical_flip = True)\n",
    "\n",
    "validation_generator = validation_generator.flow_from_directory(\n",
    "    batch_size=32,\n",
    "    color_mode=\"rgb\",\n",
    "    directory=\"/home/minh-doan/Cell_cycle/temp_processed/Validation/\",\n",
    "    target_size=(224, 224)\n",
    ")"
   ]
  },
  {
   "cell_type": "code",
   "execution_count": null,
   "metadata": {
    "collapsed": true,
    "deletable": true,
    "editable": true
   },
   "outputs": [],
   "source": [
    "# csv_logger = keras.callbacks.CSVLogger(\"training.csv\")\n",
    "\n",
    "early_stopping = keras.callbacks.EarlyStopping(patience=64)"
   ]
  },
  {
   "cell_type": "code",
   "execution_count": null,
   "metadata": {
    "collapsed": true,
    "deletable": true,
    "editable": true
   },
   "outputs": [],
   "source": [
    "# checkpoint\n",
    "filepath=\"/home/minh-doan/Cell_cycle/temp_processed/weights.best.hdf5\"\n",
    "checkpoint = keras.callbacks.ModelCheckpoint(filepath, monitor='val_categorical_accuracy', verbose=1, save_best_only=True, mode='max')\n",
    "callbacks_list = checkpoint"
   ]
  },
  {
   "cell_type": "code",
   "execution_count": null,
   "metadata": {
    "collapsed": false,
    "deletable": true,
    "editable": true,
    "scrolled": false
   },
   "outputs": [],
   "source": [
    "with tensorflow.device(\"/gpu:2\"):\n",
    "    model.fit_generator(\n",
    "        callbacks=[\n",
    "            callbacks_list\n",
    "            #csv_logger\n",
    "        ],\n",
    "        epochs=1,\n",
    "        generator=training_generator,\n",
    "        max_q_size=256,\n",
    "        steps_per_epoch=2000,\n",
    "        validation_data=validation_generator,\n",
    "        validation_steps=2000\n",
    "    )"
   ]
  },
  {
   "cell_type": "code",
   "execution_count": null,
   "metadata": {
    "collapsed": false,
    "deletable": true,
    "editable": true
   },
   "outputs": [],
   "source": [
    "test_generator = keras.preprocessing.image.ImageDataGenerator(horizontal_flip = True, vertical_flip = True)\n",
    "\n",
    "test_generator = test_generator.flow_from_directory(\n",
    "    batch_size=1,\n",
    "    color_mode=\"rgb\",\n",
    "    directory=\"/home/minh-doan/Cell_cycle/temp_processed/Testing/\"\n",
    ")\n",
    "\n",
    "model.evaluate_generator(\n",
    "    generator=test_generator, \n",
    "    steps=256\n",
    ")"
   ]
  },
  {
   "cell_type": "code",
   "execution_count": null,
   "metadata": {
    "collapsed": true,
    "deletable": true,
    "editable": true
   },
   "outputs": [],
   "source": [
    "test_x = numpy.load(\"/home/minh-doan/Cell_cycle/temp_processed/testing_x.npy\")\n",
    "\n",
    "test_y = numpy.load(\"/home/minh-doan/Cell_cycle/temp_processed/testing_y.npy\")"
   ]
  },
  {
   "cell_type": "code",
   "execution_count": null,
   "metadata": {
    "collapsed": false,
    "deletable": true,
    "editable": true
   },
   "outputs": [],
   "source": [
    "# Because VGG19 need 3 channels RGB not single-channel grayscale:\n",
    "test_xx = numpy.concatenate((test_x,test_x,test_x), axis=3)"
   ]
  },
  {
   "cell_type": "markdown",
   "metadata": {
    "deletable": true,
    "editable": true
   },
   "source": [
    "# Generate Graph for visualization in Tensorboard"
   ]
  },
  {
   "cell_type": "code",
   "execution_count": null,
   "metadata": {
    "collapsed": true,
    "deletable": true,
    "editable": true
   },
   "outputs": [],
   "source": [
    "tbCallBack = keras.callbacks.TensorBoard(log_dir='./', histogram_freq=0, write_graph=True, write_images=True)"
   ]
  },
  {
   "cell_type": "code",
   "execution_count": null,
   "metadata": {
    "collapsed": false,
    "deletable": true,
    "editable": true
   },
   "outputs": [],
   "source": [
    "options = {\n",
    "    \"batch_size\": 1,\n",
    "    \"class_weight\": class_weights,\n",
    "    \"callbacks\": [\n",
    "        tbCallBack\n",
    "    ],\n",
    "    \"epochs\": 1,\n",
    "    \"verbose\": 0,\n",
    "    \"x\": test_xx,\n",
    "    \"y\": test_y    \n",
    "}\n",
    "\n",
    "%time model.fit(**options)"
   ]
  },
  {
   "cell_type": "markdown",
   "metadata": {
    "deletable": true,
    "editable": true
   },
   "source": [
    "# Generate embeddings for visualization in Tensorboard"
   ]
  },
  {
   "cell_type": "code",
   "execution_count": null,
   "metadata": {
    "collapsed": true,
    "deletable": true,
    "editable": true
   },
   "outputs": [],
   "source": [
    "# Converting one-hot labels into serial numbers [0,1,2,3...]\n",
    "def save_metadata(file):\n",
    "    with open(file, 'w') as f:\n",
    "        for i in range(test_y.shape[0]):\n",
    "            c = numpy.nonzero(test_y[::1])[1:][0][i]\n",
    "            f.write('{}\\n'.format(c))\n",
    "            \n",
    "save_metadata('./metadata.tsv')"
   ]
  },
  {
   "cell_type": "code",
   "execution_count": null,
   "metadata": {
    "collapsed": false,
    "deletable": true,
    "editable": true
   },
   "outputs": [],
   "source": [
    "from tensorflow.contrib.tensorboard.plugins import projector\n",
    "\n",
    "# Create randomly initialized embedding weights which will be trained.\n",
    "N = test_y.shape[0] # Number of items\n",
    "print(N)\n",
    "D = 4096 # Dimensionality of the embedding Dense layer"
   ]
  },
  {
   "cell_type": "code",
   "execution_count": null,
   "metadata": {
    "collapsed": false,
    "deletable": true,
    "editable": true
   },
   "outputs": [],
   "source": [
    "intermediate_values = intermediate_layer.eval(feed_dict = {VGG19.input : test_xx}, session = keras.backend.get_session())\n",
    "print(intermediate_values.shape)\n",
    "print(type(intermediate_values))"
   ]
  },
  {
   "cell_type": "code",
   "execution_count": null,
   "metadata": {
    "collapsed": false,
    "deletable": true,
    "editable": true
   },
   "outputs": [],
   "source": [
    "embedding_var = tensorflow.Variable(intermediate_values)\n",
    "\n",
    "# file names\n",
    "ROOT_DIR = './' # Pay attention here ! If specify this path as absolute path, the resulted files have to be read with the same folder path\n",
    "OUTPUT_MODEL_FILE_NAME = os.path.join(ROOT_DIR,'tf.ckpt')\n",
    "\n",
    "# keras.backend.get_session()\n",
    "embedSess = tensorflow.Session()\n",
    "\n",
    "# save variable in session\n",
    "embedSess.run(embedding_var.initializer)\n",
    "# embedSess.run(tensorflow.global_variables_initializer())\n",
    "\n",
    "# save session (only used variable) to file\n",
    "saver = tensorflow.train.Saver([embedding_var])\n",
    "saver.save(embedSess, OUTPUT_MODEL_FILE_NAME)"
   ]
  },
  {
   "cell_type": "code",
   "execution_count": null,
   "metadata": {
    "collapsed": true,
    "deletable": true,
    "editable": true
   },
   "outputs": [],
   "source": [
    "summary_writer = tensorflow.summary.FileWriter(ROOT_DIR)\n",
    "\n",
    "config = tensorflow.contrib.tensorboard.plugins.projector.ProjectorConfig()\n",
    "embedding = config.embeddings.add()\n",
    "embedding.tensor_name = embedding_var.name\n",
    "embedding.metadata_path = '/Users/minhdoan/Desktop/1_copy/metadata.tsv' # Shame on GOOGLE, while absolute path is NOT good otherwise, this metadata HAS TO have absolute path to function\n",
    "tensorflow.contrib.tensorboard.plugins.projector.visualize_embeddings(summary_writer, config)"
   ]
  },
  {
   "cell_type": "markdown",
   "metadata": {
    "collapsed": true,
    "deletable": true,
    "editable": true
   },
   "source": [
    "# Plot the loss and accuracy of classification"
   ]
  },
  {
   "cell_type": "code",
   "execution_count": null,
   "metadata": {
    "collapsed": true,
    "deletable": true,
    "editable": true
   },
   "outputs": [],
   "source": [
    "%matplotlib inline"
   ]
  },
  {
   "cell_type": "code",
   "execution_count": null,
   "metadata": {
    "collapsed": false,
    "deletable": true,
    "editable": true
   },
   "outputs": [],
   "source": [
    "import pandas\n",
    "import seaborn\n",
    "import sklearn.metrics\n",
    "import sklearn.preprocessing\n",
    "import sklearn.utils"
   ]
  },
  {
   "cell_type": "code",
   "execution_count": null,
   "metadata": {
    "collapsed": false,
    "deletable": true,
    "editable": true
   },
   "outputs": [],
   "source": [
    "metrics = pandas.read_csv(\"./training.csv\")"
   ]
  },
  {
   "cell_type": "code",
   "execution_count": null,
   "metadata": {
    "collapsed": false,
    "deletable": true,
    "editable": true
   },
   "outputs": [],
   "source": [
    "matplotlib.pyplot.plot(metrics[\"categorical_accuracy\"])\n",
    "matplotlib.pyplot.plot(metrics[\"val_categorical_accuracy\"])"
   ]
  },
  {
   "cell_type": "code",
   "execution_count": null,
   "metadata": {
    "collapsed": false,
    "deletable": true,
    "editable": true
   },
   "outputs": [],
   "source": [
    "matplotlib.pyplot.plot(metrics[\"loss\"])\n",
    "matplotlib.pyplot.plot(metrics[\"val_loss\"])"
   ]
  },
  {
   "cell_type": "markdown",
   "metadata": {
    "collapsed": true,
    "deletable": true,
    "editable": true
   },
   "source": [
    "Building confusion matrix"
   ]
  },
  {
   "cell_type": "code",
   "execution_count": null,
   "metadata": {
    "collapsed": false,
    "deletable": true,
    "editable": true
   },
   "outputs": [],
   "source": [
    "predicted = model.predict(\n",
    "    batch_size=50,\n",
    "    x = numpy.load(\"/home/minh-doan/Cell_cycle/temp_processed/testing_x.npy\")\n",
    ")\n",
    "\n",
    "predicted = numpy.argmax(predicted, -1)"
   ]
  },
  {
   "cell_type": "markdown",
   "metadata": {
    "collapsed": true,
    "deletable": true,
    "editable": true
   },
   "source": [
    "# When done, close the session to release the GPU/CPU memory"
   ]
  },
  {
   "cell_type": "code",
   "execution_count": null,
   "metadata": {
    "collapsed": true,
    "deletable": true,
    "editable": true
   },
   "outputs": [],
   "source": [
    "session.close()"
   ]
  },
  {
   "cell_type": "markdown",
   "metadata": {
    "collapsed": true,
    "deletable": true,
    "editable": true
   },
   "source": [
    "# If train the network from scratch"
   ]
  },
  {
   "cell_type": "code",
   "execution_count": null,
   "metadata": {
    "collapsed": true,
    "deletable": true,
    "editable": true
   },
   "outputs": [],
   "source": [
    "# Change here the number of channesl: for VGG19 expecting (224,224,3) with 3 channels, for homemade model it's (image_size, image_size, 1)\n",
    "shape = (image_size, image_size, 1)"
   ]
  },
  {
   "cell_type": "code",
   "execution_count": null,
   "metadata": {
    "collapsed": true,
    "deletable": true,
    "editable": true
   },
   "outputs": [],
   "source": [
    "x = keras.layers.Input(shape)"
   ]
  },
  {
   "cell_type": "markdown",
   "metadata": {
    "deletable": true,
    "editable": true
   },
   "source": [
    "The classifier architecture is adapted from the LeNet-5 convolutional neural network by Yann LeCunn, et al."
   ]
  },
  {
   "cell_type": "code",
   "execution_count": null,
   "metadata": {
    "collapsed": false,
    "deletable": true,
    "editable": true
   },
   "outputs": [],
   "source": [
    "options = {\"activation\": \"relu\", \"kernel_size\": (3, 3)}\n",
    "\n",
    "y = keras.layers.Conv2D(32, **options)(x)\n",
    "y = keras.layers.Conv2D(64, **options)(y)\n",
    "\n",
    "y = keras.layers.MaxPooling2D()(y)\n",
    "\n",
    "y = keras.layers.Dropout(0.5)(y)\n",
    "\n",
    "y = keras.layers.Flatten()(y)\n",
    "\n",
    "y = keras.layers.Dense(128, activation=\"relu\")(y)\n",
    "\n",
    "y = keras.layers.Dropout(0.5)(y)\n",
    "\n",
    "y = keras.layers.Dense(classes)(y)\n",
    "\n",
    "y = keras.layers.Activation(\"softmax\")(y)"
   ]
  },
  {
   "cell_type": "code",
   "execution_count": null,
   "metadata": {
    "collapsed": true,
    "deletable": true,
    "editable": true
   },
   "outputs": [],
   "source": [
    "model = keras.models.Model(x, y)"
   ]
  },
  {
   "cell_type": "code",
   "execution_count": null,
   "metadata": {
    "collapsed": true,
    "deletable": true,
    "editable": true
   },
   "outputs": [],
   "source": [
    "loss = keras.losses.categorical_crossentropy\n",
    "\n",
    "optimizer = keras.optimizers.Adam(0.0001)\n",
    "\n",
    "model.compile(\n",
    "    loss=loss, \n",
    "    metrics=[\n",
    "        \"accuracy\"\n",
    "    ],\n",
    "    optimizer=optimizer\n",
    ")"
   ]
  },
  {
   "cell_type": "code",
   "execution_count": null,
   "metadata": {
    "collapsed": true,
    "deletable": true,
    "editable": true
   },
   "outputs": [],
   "source": [
    "training_x = numpy.load(os.path.join(directory, \"training_x.npy\"))\n",
    "\n",
    "training_y = numpy.load(os.path.join(directory, \"training_y.npy\"))"
   ]
  },
  {
   "cell_type": "code",
   "execution_count": null,
   "metadata": {
    "collapsed": true,
    "deletable": true,
    "editable": true
   },
   "outputs": [],
   "source": [
    "csv_logger = keras.callbacks.CSVLogger(\"training.csv\")\n",
    "\n",
    "early_stopping = keras.callbacks.EarlyStopping(patience=32)\n",
    "\n",
    "model_checkpoint = keras.callbacks.ModelCheckpoint(\"checkpoint.hdf5\")\n",
    "\n",
    "reduce_learning_rate_on_plateau = keras.callbacks.ReduceLROnPlateau()"
   ]
  },
  {
   "cell_type": "code",
   "execution_count": null,
   "metadata": {
    "collapsed": false,
    "deletable": true,
    "editable": true
   },
   "outputs": [],
   "source": [
    "options = {\n",
    "    \"batch_size\": 4096,\n",
    "    \"class_weight\": class_weights,\n",
    "    \"callbacks\": [\n",
    "        csv_logger,\n",
    "        early_stopping,\n",
    "        model_checkpoint,\n",
    "        reduce_learning_rate_on_plateau\n",
    "    ],\n",
    "    \"epochs\": 256,\n",
    "    \"validation_split\": 0.25,\n",
    "    \"verbose\": 0,\n",
    "    \"x\": training_x,\n",
    "    \"y\": training_y    \n",
    "}\n",
    "\n",
    "%time model.fit(**options)"
   ]
  },
  {
   "cell_type": "code",
   "execution_count": null,
   "metadata": {
    "collapsed": true,
    "deletable": true,
    "editable": true
   },
   "outputs": [],
   "source": [
    "%matplotlib inline"
   ]
  },
  {
   "cell_type": "code",
   "execution_count": null,
   "metadata": {
    "collapsed": false,
    "deletable": true,
    "editable": true
   },
   "outputs": [],
   "source": [
    "observations = pandas.read_csv(\"training.csv\")\n",
    "\n",
    "_, (a, b) = matplotlib.pyplot.subplots(nrows=1, ncols=2, figsize=(12, 4))\n",
    "\n",
    "a.plot(observations[\"acc\"], \"b\")\n",
    "a.plot(observations[\"val_acc\"], \"r\")\n",
    "\n",
    "b.plot(observations[\"loss\"], \"b\")\n",
    "b.plot(observations[\"val_loss\"], \"r\")"
   ]
  },
  {
   "cell_type": "code",
   "execution_count": null,
   "metadata": {
    "collapsed": true,
    "deletable": true,
    "editable": true
   },
   "outputs": [],
   "source": [
    "model.load_weights(\"./checkpoint.hdf5\")"
   ]
  },
  {
   "cell_type": "code",
   "execution_count": null,
   "metadata": {
    "collapsed": true,
    "deletable": true,
    "editable": true
   },
   "outputs": [],
   "source": [
    "test_x = numpy.load(os.path.join(directory, \"test_x.npy\"))\n",
    "\n",
    "test_y = numpy.load(os.path.join(directory, \"test_y.npy\"))"
   ]
  },
  {
   "cell_type": "code",
   "execution_count": null,
   "metadata": {
    "collapsed": false,
    "deletable": true,
    "editable": true
   },
   "outputs": [],
   "source": [
    "model.evaluate(test_x, test_y)"
   ]
  }
 ],
 "metadata": {
  "kernelspec": {
   "display_name": "Python 3",
   "language": "python",
   "name": "python3"
  },
  "language_info": {
   "codemirror_mode": {
    "name": "ipython",
    "version": 3
   },
   "file_extension": ".py",
   "mimetype": "text/x-python",
   "name": "python",
   "nbconvert_exporter": "python",
   "pygments_lexer": "ipython3",
   "version": "3.6.1"
  }
 },
 "nbformat": 4,
 "nbformat_minor": 2
}
